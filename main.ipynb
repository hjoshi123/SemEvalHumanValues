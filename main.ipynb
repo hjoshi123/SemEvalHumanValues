{
 "cells": [
  {
   "cell_type": "code",
   "execution_count": 9,
   "id": "e470f0ba",
   "metadata": {},
   "outputs": [
    {
     "name": "stdout",
     "output_type": "stream",
     "text": [
      "Baseline\n"
     ]
    }
   ],
   "source": [
    "print('Baseline')\n",
    "\n",
    "# This is so that you don't have to restart the kernel everytime you edit hmm.py\n",
    "\n",
    "%load_ext autoreload\n",
    "%autoreload 2"
   ]
  },
  {
   "cell_type": "code",
   "execution_count": 11,
   "id": "5ae31998",
   "metadata": {},
   "outputs": [
    {
     "name": "stdout",
     "output_type": "stream",
     "text": [
      "<class 'pandas.core.frame.DataFrame'>\n",
      "Int64Index: 4176 entries, 3401 to 3031\n",
      "Data columns (total 24 columns):\n",
      " #   Column                      Non-Null Count  Dtype \n",
      "---  ------                      --------------  ----- \n",
      " 0   Argument ID                 4176 non-null   object\n",
      " 1   Conclusion                  4176 non-null   object\n",
      " 2   Stance                      4176 non-null   object\n",
      " 3   Premise                     4176 non-null   object\n",
      " 4   Achievement                 4176 non-null   int64 \n",
      " 5   Benevolence: caring         4176 non-null   int64 \n",
      " 6   Benevolence: dependability  4176 non-null   int64 \n",
      " 7   Conformity: interpersonal   4176 non-null   int64 \n",
      " 8   Conformity: rules           4176 non-null   int64 \n",
      " 9   Face                        4176 non-null   int64 \n",
      " 10  Hedonism                    4176 non-null   int64 \n",
      " 11  Humility                    4176 non-null   int64 \n",
      " 12  Power: dominance            4176 non-null   int64 \n",
      " 13  Power: resources            4176 non-null   int64 \n",
      " 14  Security: personal          4176 non-null   int64 \n",
      " 15  Security: societal          4176 non-null   int64 \n",
      " 16  Self-direction: action      4176 non-null   int64 \n",
      " 17  Self-direction: thought     4176 non-null   int64 \n",
      " 18  Stimulation                 4176 non-null   int64 \n",
      " 19  Tradition                   4176 non-null   int64 \n",
      " 20  Universalism: concern       4176 non-null   int64 \n",
      " 21  Universalism: nature        4176 non-null   int64 \n",
      " 22  Universalism: objectivity   4176 non-null   int64 \n",
      " 23  Universalism: tolerance     4176 non-null   int64 \n",
      "dtypes: int64(20), object(4)\n",
      "memory usage: 815.6+ KB\n",
      "<class 'pandas.core.frame.DataFrame'>\n",
      "Int64Index: 1044 entries, 2 to 5210\n",
      "Data columns (total 24 columns):\n",
      " #   Column                      Non-Null Count  Dtype \n",
      "---  ------                      --------------  ----- \n",
      " 0   Argument ID                 1044 non-null   object\n",
      " 1   Conclusion                  1044 non-null   object\n",
      " 2   Stance                      1044 non-null   object\n",
      " 3   Premise                     1044 non-null   object\n",
      " 4   Achievement                 1044 non-null   int64 \n",
      " 5   Benevolence: caring         1044 non-null   int64 \n",
      " 6   Benevolence: dependability  1044 non-null   int64 \n",
      " 7   Conformity: interpersonal   1044 non-null   int64 \n",
      " 8   Conformity: rules           1044 non-null   int64 \n",
      " 9   Face                        1044 non-null   int64 \n",
      " 10  Hedonism                    1044 non-null   int64 \n",
      " 11  Humility                    1044 non-null   int64 \n",
      " 12  Power: dominance            1044 non-null   int64 \n",
      " 13  Power: resources            1044 non-null   int64 \n",
      " 14  Security: personal          1044 non-null   int64 \n",
      " 15  Security: societal          1044 non-null   int64 \n",
      " 16  Self-direction: action      1044 non-null   int64 \n",
      " 17  Self-direction: thought     1044 non-null   int64 \n",
      " 18  Stimulation                 1044 non-null   int64 \n",
      " 19  Tradition                   1044 non-null   int64 \n",
      " 20  Universalism: concern       1044 non-null   int64 \n",
      " 21  Universalism: nature        1044 non-null   int64 \n",
      " 22  Universalism: objectivity   1044 non-null   int64 \n",
      " 23  Universalism: tolerance     1044 non-null   int64 \n",
      "dtypes: int64(20), object(4)\n",
      "memory usage: 203.9+ KB\n"
     ]
    }
   ],
   "source": [
    "from preprocess import load_arguments, load_label, load_values_from_json, combine_columns, split_arguments\n",
    "\n",
    "# Load arguments\n",
    "df_arguments = load_arguments('data/arguments-training.tsv')\n",
    "\n",
    "# Load json\n",
    "human_values = load_values_from_json('data/value-categories.json')\n",
    "\n",
    "df_labels = load_label(\"data/labels-training.tsv\", human_values[\"1\"])\n",
    "df_full_level = combine_columns(df_arguments, df_labels)\n",
    "train_arguments, valid_arguments = split_arguments(df_full_level)\n",
    "\n",
    "train_arguments.info()\n",
    "valid_arguments.info()"
   ]
  },
  {
   "cell_type": "markdown",
   "id": "5d819a8c",
   "metadata": {},
   "source": [
    "## Random Baseline"
   ]
  },
  {
   "cell_type": "code",
   "execution_count": 12,
   "id": "c2ab4ff7",
   "metadata": {},
   "outputs": [
    {
     "name": "stdout",
     "output_type": "stream",
     "text": [
      "Random Prediction\n",
      "Added predictions for 4176 arguments\n",
      "{'accuracy_thresh': 0.2797892689704895,\n",
      " 'f1-score': {'Achievement': 0.4,\n",
      "              'Benevolence: caring': 0.42,\n",
      "              'Benevolence: dependability': 0.26,\n",
      "              'Conformity: interpersonal': 0.08,\n",
      "              'Conformity: rules': 0.36,\n",
      "              'Face': 0.13,\n",
      "              'Hedonism': 0.08,\n",
      "              'Humility': 0.15,\n",
      "              'Power: dominance': 0.16,\n",
      "              'Power: resources': 0.18,\n",
      "              'Security: personal': 0.53,\n",
      "              'Security: societal': 0.46,\n",
      "              'Self-direction: action': 0.41,\n",
      "              'Self-direction: thought': 0.3,\n",
      "              'Stimulation': 0.12,\n",
      "              'Tradition': 0.2,\n",
      "              'Universalism: concern': 0.46,\n",
      "              'Universalism: nature': 0.13,\n",
      "              'Universalism: objectivity': 0.3,\n",
      "              'Universalism: tolerance': 0.24,\n",
      "              'avg-f1-score': 0.27},\n",
      " 'marco-avg-f1score': 0.27}\n"
     ]
    }
   ],
   "source": [
    "from pprint import pprint\n",
    "\n",
    "from baseline import random_prediction\n",
    "from metrics import compute_metrics, print_metrics\n",
    "from utils import extract_true_labels\n",
    "\n",
    "\n",
    "\n",
    "random_prediction_values = random_prediction(human_values['1'], train_arguments)\n",
    "\n",
    "metrics = compute_metrics((random_prediction_values, \n",
    "                           extract_true_labels(train_arguments, human_values['1'])), human_values['1'])\n",
    "\n",
    "pprint(metrics)"
   ]
  },
  {
   "cell_type": "markdown",
   "id": "c56b8590",
   "metadata": {},
   "source": [
    "## All 1 predictions\n"
   ]
  },
  {
   "cell_type": "code",
   "execution_count": 13,
   "id": "8bffc3f0",
   "metadata": {},
   "outputs": [
    {
     "name": "stdout",
     "output_type": "stream",
     "text": [
      "Predicting all 1\n",
      "Added predictions for 4176 arguments\n",
      "{'accuracy_thresh': 0.17182710766792297,\n",
      " 'f1-score': {'Achievement': 0.43,\n",
      "              'Benevolence: caring': 0.45,\n",
      "              'Benevolence: dependability': 0.26,\n",
      "              'Conformity: interpersonal': 0.08,\n",
      "              'Conformity: rules': 0.38,\n",
      "              'Face': 0.13,\n",
      "              'Hedonism': 0.08,\n",
      "              'Humility': 0.15,\n",
      "              'Power: dominance': 0.16,\n",
      "              'Power: resources': 0.19,\n",
      "              'Security: personal': 0.55,\n",
      "              'Security: societal': 0.48,\n",
      "              'Self-direction: action': 0.41,\n",
      "              'Self-direction: thought': 0.3,\n",
      "              'Stimulation': 0.11,\n",
      "              'Tradition': 0.2,\n",
      "              'Universalism: concern': 0.55,\n",
      "              'Universalism: nature': 0.13,\n",
      "              'Universalism: objectivity': 0.3,\n",
      "              'Universalism: tolerance': 0.24,\n",
      "              'avg-f1-score': 0.28},\n",
      " 'marco-avg-f1score': 0.28}\n"
     ]
    }
   ],
   "source": [
    "from baseline import all_ones\n",
    "\n",
    "one_values = all_ones(human_values['1'], train_arguments)\n",
    "\n",
    "metrics = compute_metrics((one_values, \n",
    "                           extract_true_labels(train_arguments, human_values['1'])), human_values['1'])\n",
    "\n",
    "pprint(metrics)"
   ]
  }
 ],
 "metadata": {
  "kernelspec": {
   "display_name": "Python 3 (ipykernel)",
   "language": "python",
   "name": "python3"
  },
  "language_info": {
   "codemirror_mode": {
    "name": "ipython",
    "version": 3
   },
   "file_extension": ".py",
   "mimetype": "text/x-python",
   "name": "python",
   "nbconvert_exporter": "python",
   "pygments_lexer": "ipython3",
   "version": "3.9.12"
  },
  "vscode": {
   "interpreter": {
    "hash": "639a22baaa801c989cc954e864d538abd49c0bfeee5c51863e756a16beac61da"
   }
  }
 },
 "nbformat": 4,
 "nbformat_minor": 5
}
